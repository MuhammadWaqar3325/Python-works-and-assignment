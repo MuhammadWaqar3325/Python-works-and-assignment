{
 "cells": [
  {
   "cell_type": "code",
   "execution_count": 3,
   "id": "d4a63eb0",
   "metadata": {},
   "outputs": [
    {
     "name": "stdout",
     "output_type": "stream",
     "text": [
      "Enter marks eng70\n",
      "Enter marks isi95\n",
      "Enter marks math81\n",
      "Enter marks comp79\n",
      "Enter marks urdu75\n",
      "A+\n"
     ]
    }
   ],
   "source": [
    " eng = int(input(\"Enter marks eng\"));\n",
    "isi = int(input(\"Enter marks isi\"));\n",
    "math = int(input(\"Enter marks math\"));\n",
    "comp = int(input(\"Enter marks comp\"));\n",
    "urdu = int(input(\"Enter marks urdu\"));\n",
    "total = 500;\n",
    "percent = (eng + isi + math + comp + urdu)/total*100;\n",
    "if percent < 100 and percent >= 80:\n",
    "    print(\"A+\");\n",
    "elif percent < 80 and percent >= 70:\n",
    "    print(\"A\");\n",
    "elif percent < 70 and percent >= 60:\n",
    "    print(\"B\");\n",
    "elif percent < 60 and percent >= 50:\n",
    "    print (\"C\");\n",
    "elif percent < 50 and percent >= 40:\n",
    "    print(\"D\");\n",
    "elif percent < 40 and percent >= 30:\n",
    "    print (\"E\");\n",
    "elif percent < 30 and percent >= 33:\n",
    "    print (\"F\");\n",
    "else:\n",
    "    print(\"Fail\")\n",
    "                                                     \n",
    "    \n",
    "        "
   ]
  },
  {
   "cell_type": "code",
   "execution_count": null,
   "id": "77c92d21",
   "metadata": {},
   "outputs": [],
   "source": []
  }
 ],
 "metadata": {
  "kernelspec": {
   "display_name": "Python 3",
   "language": "python",
   "name": "python3"
  },
  "language_info": {
   "codemirror_mode": {
    "name": "ipython",
    "version": 3
   },
   "file_extension": ".py",
   "mimetype": "text/x-python",
   "name": "python",
   "nbconvert_exporter": "python",
   "pygments_lexer": "ipython3",
   "version": "3.8.8"
  }
 },
 "nbformat": 4,
 "nbformat_minor": 5
}
